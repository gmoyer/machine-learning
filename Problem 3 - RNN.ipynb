{
 "cells": [
  {
   "cell_type": "code",
   "execution_count": 1,
   "metadata": {},
   "outputs": [],
   "source": [
    "# In this problem we will create a NN to write Shakespeare\n",
    "# plays.\n",
    "# The training data is included in the Training Data \n",
    "# subfolder, and was taken from here:\n",
    "# https://github.com/karpathy/char-rnn/blob/master/data/tinyshakespeare/input.txt\n",
    "#\n",
    "# The idea for the project came from this awesome blog post:\n",
    "# https://karpathy.github.io/2015/05/21/rnn-effectiveness/ \n",
    "# I highly recommend you read it. It is great.\n",
    "\n",
    "# Packages"
   ]
  },
  {
   "cell_type": "code",
   "execution_count": null,
   "metadata": {},
   "outputs": [],
   "source": [
    "### -------- Import Data and Data Preprocessing -------- ###\n",
    "# you must include the appropriate data preprocessing steps"
   ]
  },
  {
   "cell_type": "code",
   "execution_count": null,
   "metadata": {},
   "outputs": [],
   "source": [
    "### ------------ Exploratory Data Analysis ------------- ###\n",
    "# Output two pieces of information that you found \n",
    "# informative as well as a print statement of why they\n",
    "# assisted you in choosing your model parameters"
   ]
  },
  {
   "cell_type": "code",
   "execution_count": null,
   "metadata": {},
   "outputs": [],
   "source": [
    "### ---------------- Model Definition ------------------ ###\n",
    "# Use an LSTM"
   ]
  },
  {
   "cell_type": "code",
   "execution_count": null,
   "metadata": {},
   "outputs": [],
   "source": [
    "### --------- Optimizer and Loss Definition ------------ ###\n",
    "# Output a print statement supporting your optimizer and \n",
    "# loss function choices"
   ]
  },
  {
   "cell_type": "code",
   "execution_count": null,
   "metadata": {},
   "outputs": [],
   "source": [
    "### ---------------- Training pt I --------------------- ###\n",
    "# Train 10 epochs"
   ]
  },
  {
   "cell_type": "code",
   "execution_count": null,
   "metadata": {},
   "outputs": [],
   "source": [
    "### ---------------- Testing pt I ---------------------- ###\n",
    "# Write an essay with a minimum of 2,000 characters and \n",
    "# save the output as a PDF named \"RNN_pt1.pdf\""
   ]
  },
  {
   "cell_type": "code",
   "execution_count": null,
   "metadata": {},
   "outputs": [],
   "source": [
    "### --------------- Training pt II --------------------- ###\n",
    "# Train an ADDITIONAL 100 epochs"
   ]
  },
  {
   "cell_type": "code",
   "execution_count": null,
   "metadata": {},
   "outputs": [],
   "source": [
    "### --------------- Testing pt II ---------------------- ###\n",
    "# Write an essay with a minimum of 2,000 characters and \n",
    "# save the output as a PDF named \"RNN_pt2.pdf\""
   ]
  },
  {
   "cell_type": "code",
   "execution_count": null,
   "metadata": {},
   "outputs": [],
   "source": [
    "### -------------- Training pt III --------------------- ###\n",
    "# Train until you can get it to write a good essay. Take\n",
    "# advantage of the fact that pytorch doesn't reset your model\n",
    "# unless you reinstantiate it in the \"Model Definition\" cell\n",
    "#\n",
    "# If after 3 hours it still doesn't make a meaningful essay\n",
    "# then change some hyperparameters and try again. You can \n",
    "# look to the blog post for hyperparameter inspiration."
   ]
  },
  {
   "cell_type": "code",
   "execution_count": null,
   "metadata": {},
   "outputs": [],
   "source": [
    "### -------------- Testing pt III ---------------------- ###\n",
    "# Write an essay with a minimum of 2,000 characters and \n",
    "# save the output as a PDF named \"RNN_pt3.pdf\"\n",
    "#\n",
    "# Output a print statement commenting on wether or not you\n",
    "# enjoyed this problem and why or why not."
   ]
  }
 ],
 "metadata": {
  "kernelspec": {
   "display_name": "base",
   "language": "python",
   "name": "python3"
  },
  "language_info": {
   "codemirror_mode": {
    "name": "ipython",
    "version": 3
   },
   "file_extension": ".py",
   "mimetype": "text/x-python",
   "name": "python",
   "nbconvert_exporter": "python",
   "pygments_lexer": "ipython3",
   "version": "3.10.13"
  }
 },
 "nbformat": 4,
 "nbformat_minor": 2
}
